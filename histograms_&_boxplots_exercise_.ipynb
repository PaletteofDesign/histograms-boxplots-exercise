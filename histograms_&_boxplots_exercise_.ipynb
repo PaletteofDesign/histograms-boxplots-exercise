{
  "nbformat": 4,
  "nbformat_minor": 0,
  "metadata": {
    "colab": {
      "name": "histograms & boxplots exercise .ipynb",
      "provenance": [],
      "collapsed_sections": [],
      "authorship_tag": "ABX9TyPtvP6oWabVzT/Coj0o3Ftf",
      "include_colab_link": true
    },
    "kernelspec": {
      "name": "python3",
      "display_name": "Python 3"
    },
    "language_info": {
      "name": "python"
    }
  },
  "cells": [
    {
      "cell_type": "markdown",
      "metadata": {
        "id": "view-in-github",
        "colab_type": "text"
      },
      "source": [
        "<a href=\"https://colab.research.google.com/github/PaletteofDesign/histograms-boxplots-exercise/blob/main/histograms_%26_boxplots_exercise_.ipynb\" target=\"_parent\"><img src=\"https://colab.research.google.com/assets/colab-badge.svg\" alt=\"Open In Colab\"/></a>"
      ]
    },
    {
      "cell_type": "code",
      "metadata": {
        "colab": {
          "base_uri": "https://localhost:8080/"
        },
        "id": "ngHhsVsZsTn0",
        "outputId": "70406b1e-61a1-420e-ce45-57871172408d"
      },
      "source": [
        "from google.colab import drive\n",
        "drive.mount('/content/drive')"
      ],
      "execution_count": null,
      "outputs": [
        {
          "output_type": "stream",
          "text": [
            "Mounted at /content/drive\n"
          ],
          "name": "stdout"
        }
      ]
    },
    {
      "cell_type": "code",
      "metadata": {
        "id": "itEoag_tzLOG"
      },
      "source": [
        "import matplotlib.pyplot as plt\n",
        "import seaborn as sns\n",
        "import pandas as pd\n",
        "import numpy as np"
      ],
      "execution_count": null,
      "outputs": []
    },
    {
      "cell_type": "code",
      "metadata": {
        "colab": {
          "base_uri": "https://localhost:8080/",
          "height": 241
        },
        "id": "QqJSXURH3HNy",
        "outputId": "3d757775-ef78-4c60-8054-4942d537b94d"
      },
      "source": [
        "f_name = '/content/catsvdogs.xlsx'\n",
        "df = pd.read_excel(f_name)\n",
        "df.head()"
      ],
      "execution_count": null,
      "outputs": [
        {
          "output_type": "execute_result",
          "data": {
            "text/html": [
              "<div>\n",
              "<style scoped>\n",
              "    .dataframe tbody tr th:only-of-type {\n",
              "        vertical-align: middle;\n",
              "    }\n",
              "\n",
              "    .dataframe tbody tr th {\n",
              "        vertical-align: top;\n",
              "    }\n",
              "\n",
              "    .dataframe thead th {\n",
              "        text-align: right;\n",
              "    }\n",
              "</style>\n",
              "<table border=\"1\" class=\"dataframe\">\n",
              "  <thead>\n",
              "    <tr style=\"text-align: right;\">\n",
              "      <th></th>\n",
              "      <th>Location</th>\n",
              "      <th>Number of Households (in 1000)</th>\n",
              "      <th>Percentage of households with pets</th>\n",
              "      <th>Number of Pet Households (in 1000)</th>\n",
              "      <th>Percentage of Dog Owners</th>\n",
              "      <th>Dog Owning Households (1000s)</th>\n",
              "      <th>Mean Number of Dogs per household</th>\n",
              "      <th>Dog Population (in 1000)</th>\n",
              "      <th>Percentage of Cat Owners</th>\n",
              "      <th>Cat Owning Households</th>\n",
              "      <th>Mean Number of Cats</th>\n",
              "      <th>Cat Population</th>\n",
              "    </tr>\n",
              "  </thead>\n",
              "  <tbody>\n",
              "    <tr>\n",
              "      <th>0</th>\n",
              "      <td>Alabama</td>\n",
              "      <td>1828</td>\n",
              "      <td>59.5</td>\n",
              "      <td>1088</td>\n",
              "      <td>44.1</td>\n",
              "      <td>807</td>\n",
              "      <td>1.7</td>\n",
              "      <td>1410</td>\n",
              "      <td>27.4</td>\n",
              "      <td>501</td>\n",
              "      <td>2.5</td>\n",
              "      <td>1252</td>\n",
              "    </tr>\n",
              "    <tr>\n",
              "      <th>1</th>\n",
              "      <td>Arizona</td>\n",
              "      <td>2515</td>\n",
              "      <td>59.5</td>\n",
              "      <td>1497</td>\n",
              "      <td>40.1</td>\n",
              "      <td>1008</td>\n",
              "      <td>1.8</td>\n",
              "      <td>1798</td>\n",
              "      <td>29.6</td>\n",
              "      <td>743</td>\n",
              "      <td>1.9</td>\n",
              "      <td>1438</td>\n",
              "    </tr>\n",
              "    <tr>\n",
              "      <th>2</th>\n",
              "      <td>Arkansas</td>\n",
              "      <td>1148</td>\n",
              "      <td>62.4</td>\n",
              "      <td>716</td>\n",
              "      <td>47.9</td>\n",
              "      <td>550</td>\n",
              "      <td>2.0</td>\n",
              "      <td>1097</td>\n",
              "      <td>30.6</td>\n",
              "      <td>351</td>\n",
              "      <td>2.3</td>\n",
              "      <td>810</td>\n",
              "    </tr>\n",
              "    <tr>\n",
              "      <th>3</th>\n",
              "      <td>California</td>\n",
              "      <td>12974</td>\n",
              "      <td>52.9</td>\n",
              "      <td>6865</td>\n",
              "      <td>32.8</td>\n",
              "      <td>4260</td>\n",
              "      <td>1.6</td>\n",
              "      <td>6687</td>\n",
              "      <td>28.3</td>\n",
              "      <td>3687</td>\n",
              "      <td>1.9</td>\n",
              "      <td>7118</td>\n",
              "    </tr>\n",
              "    <tr>\n",
              "      <th>4</th>\n",
              "      <td>Colorado</td>\n",
              "      <td>1986</td>\n",
              "      <td>61.3</td>\n",
              "      <td>1217</td>\n",
              "      <td>42.5</td>\n",
              "      <td>845</td>\n",
              "      <td>1.6</td>\n",
              "      <td>1349</td>\n",
              "      <td>32.3</td>\n",
              "      <td>642</td>\n",
              "      <td>1.9</td>\n",
              "      <td>1191</td>\n",
              "    </tr>\n",
              "  </tbody>\n",
              "</table>\n",
              "</div>"
            ],
            "text/plain": [
              "     Location  ...  Cat Population\n",
              "0     Alabama  ...            1252\n",
              "1     Arizona  ...            1438\n",
              "2    Arkansas  ...             810\n",
              "3  California  ...            7118\n",
              "4    Colorado  ...            1191\n",
              "\n",
              "[5 rows x 12 columns]"
            ]
          },
          "metadata": {
            "tags": []
          },
          "execution_count": 4
        }
      ]
    },
    {
      "cell_type": "markdown",
      "metadata": {
        "id": "K-bnYvyR2lF4"
      },
      "source": [
        "1. Plot a histogram of the Percentage of Dog Owners.\n"
      ]
    },
    {
      "cell_type": "code",
      "metadata": {
        "id": "rBnR9cfj3sXy",
        "colab": {
          "base_uri": "https://localhost:8080/",
          "height": 361
        },
        "outputId": "6e9640b9-8f48-4924-a7f0-88b0c02736f9"
      },
      "source": [
        "plt.style.use('seaborn')\n",
        "df['Percentage of Dog Owners'].hist(bins=30, edgecolor='black', rwidth=0.7, color='green', label='Dogs')\n",
        "plt.xlabel('Percentage of Dog Owners')\n",
        "plt.ylabel('Count')\n",
        "plt.legend();"
      ],
      "execution_count": 65,
      "outputs": [
        {
          "output_type": "display_data",
          "data": {
            "image/png": "[encoded data removed]",
            "text/plain": [
              "<Figure size 576x396 with 1 Axes>"
            ]
          },
          "metadata": {
            "tags": []
          }
        }
      ]
    },
    {
      "cell_type": "markdown",
      "metadata": {
        "id": "AkezmsGY7279"
      },
      "source": [
        "2. Plot a histogram of the Percentage of Cat Owners."
      ]
    },
    {
      "cell_type": "code",
      "metadata": {
        "colab": {
          "base_uri": "https://localhost:8080/",
          "height": 361
        },
        "id": "GB-b9d0t2cAA",
        "outputId": "3d992cef-ebcc-40fc-c57d-71866c406340"
      },
      "source": [
        "plt.style.use('seaborn')\n",
        "df['Percentage of Cat Owners'].hist(bins=30, edgecolor='black', rwidth=0.7, label='Cats')\n",
        "plt.xlabel('Percentage of Cat Owners')\n",
        "plt.ylabel('Count')\n",
        "plt.legend();"
      ],
      "execution_count": 66,
      "outputs": [
        {
          "output_type": "display_data",
          "data": {
            "image/png": "[encoded data removed]",
            "text/plain": [
              "<Figure size 576x396 with 1 Axes>"
            ]
          },
          "metadata": {
            "tags": []
          }
        }
      ]
    },
    {
      "cell_type": "markdown",
      "metadata": {
        "id": "UmrnKgHU_HQN"
      },
      "source": [
        "3a. What can we see by comparing these two histograms? What information does this tell us?\n",
        "\n",
        "More states have a larger percentage of dog owners over cat owners."
      ]
    },
    {
      "cell_type": "markdown",
      "metadata": {
        "id": "SrhqogHo_gtz"
      },
      "source": [
        "  3b. Optional/Bonus: plot these two histograms on the same plot. An example of what this could look like is given below:"
      ]
    },
    {
      "cell_type": "code",
      "metadata": {
        "colab": {
          "base_uri": "https://localhost:8080/",
          "height": 361
        },
        "id": "zkpbiDlB_fhw",
        "outputId": "5d9ef5c8-c3c1-43e5-a4c2-122b7e242d6f"
      },
      "source": [
        "plt.style.use('seaborn')\n",
        "df['Percentage of Cat Owners'].hist(bins=30, edgecolor='black', rwidth=0.7, label= 'Cats')\n",
        "df['Percentage of Dog Owners'].hist(bins=30, edgecolor='black', rwidth=0.7, label= 'Dogs')\n",
        "plt.xlabel('Percentage of Animal Owners')\n",
        "plt.ylabel('Count')\n",
        "plt.legend();"
      ],
      "execution_count": 61,
      "outputs": [
        {
          "output_type": "display_data",
          "data": {
            "image/png": "[encoded data removed]",
            "text/plain": [
              "<Figure size 576x396 with 1 Axes>"
            ]
          },
          "metadata": {
            "tags": []
          }
        }
      ]
    },
    {
      "cell_type": "code",
      "metadata": {
        "colab": {
          "base_uri": "https://localhost:8080/",
          "height": 361
        },
        "id": "FPJqHOC0JeRO",
        "outputId": "b55d3925-db1c-4022-e69b-8843f477f8be"
      },
      "source": [
        "sns.histplot(df['Percentage of Dog Owners'], color= 'green', label= 'Dogs')\n",
        "sns.histplot(df['Percentage of Cat Owners'], color= 'blue', label= 'Cats')\n",
        "plt.xlabel('Percentage of Animal Owners')\n",
        "plt.legend();"
      ],
      "execution_count": 45,
      "outputs": [
        {
          "output_type": "display_data",
          "data": {
            "image/png": "[encoded data removed]",
            "text/plain": [
              "<Figure size 576x396 with 1 Axes>"
            ]
          },
          "metadata": {
            "tags": []
          }
        }
      ]
    },
    {
      "cell_type": "markdown",
      "metadata": {
        "id": "P0_tog8qCw6I"
      },
      "source": [
        "4. Create two boxplots on the same plot: one of the mean number of cats per household and the other of the mean number of dogs. "
      ]
    },
    {
      "cell_type": "code",
      "metadata": {
        "colab": {
          "base_uri": "https://localhost:8080/",
          "height": 342
        },
        "id": "92pT1C_T9XIX",
        "outputId": "d16c6b6d-a85b-470b-8800-1bde08445cab"
      },
      "source": [
        "plt.figure(figsize = (5, 5))\n",
        "fig, axes = plt.subplots(nrows = 1, ncols = 1, figsize = (7,5))\n",
        "bp = axes.boxplot([df['Mean Number of Cats'],df['Mean Number of Dogs per household']], labels=['Cats', 'Dogs'], widths = .7, patch_artist=True, medianprops = dict(linestyle='-', linewidth=2, color='red'),\n",
        "boxprops = dict(linewidth=2, color='Black', facecolor = 'blue'));\n",
        "boxplot1 = bp['boxes'][0]\n",
        "boxplot1.set_facecolor('green')\n",
        "plt.ylabel('Mean Number of Animals per State', fontsize = 16);\n",
        "plt.xticks(fontsize = 16);\n",
        "plt.yticks(fontsize = 16);"
      ],
      "execution_count": 106,
      "outputs": [
        {
          "output_type": "display_data",
          "data": {
            "text/plain": [
              "<Figure size 360x360 with 0 Axes>"
            ]
          },
          "metadata": {
            "tags": []
          }
        },
        {
          "output_type": "display_data",
          "data": {
            "image/png": "[encoded data removed]",
            "text/plain": [
              "<Figure size 504x360 with 1 Axes>"
            ]
          },
          "metadata": {
            "tags": []
          }
        }
      ]
    },
    {
      "cell_type": "markdown",
      "metadata": {
        "id": "_cT3ELVRHpZI"
      },
      "source": [
        "5. What can we see by comparing these two boxplots? What information does this tell us?\n",
        "\n",
        "More cats exist on average per household than dogs including the minimum and maximum of cats/dogs."
      ]
    },
    {
      "cell_type": "code",
      "metadata": {
        "id": "wvnarMcMDRG1"
      },
      "source": [
        ""
      ],
      "execution_count": null,
      "outputs": []
    }
  ]
}